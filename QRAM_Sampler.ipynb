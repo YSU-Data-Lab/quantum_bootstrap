{
 "cells": [
  {
   "cell_type": "code",
   "execution_count": 1,
   "id": "a3a5b90e",
   "metadata": {
    "scrolled": true
   },
   "outputs": [
    {
     "name": "stdout",
     "output_type": "stream",
     "text": [
      "Defaulting to user installation because normal site-packages is not writeable\n",
      "Requirement already satisfied: qiskit==1.3.2 in /users/PLS0167/rjahan01/.local/lib/python3.9/site-packages (1.3.2)\n",
      "Requirement already satisfied: dill>=0.3 in /users/PLS0167/rjahan01/.local/lib/python3.9/site-packages (from qiskit==1.3.2) (0.3.9)\n",
      "Requirement already satisfied: stevedore>=3.0.0 in /users/PLS0167/rjahan01/.local/lib/python3.9/site-packages (from qiskit==1.3.2) (5.4.0)\n",
      "Requirement already satisfied: rustworkx>=0.15.0 in /users/PLS0167/rjahan01/.local/lib/python3.9/site-packages (from qiskit==1.3.2) (0.16.0)\n",
      "Requirement already satisfied: typing-extensions in /users/PLS0167/rjahan01/.local/lib/python3.9/site-packages (from qiskit==1.3.2) (4.12.2)\n",
      "Requirement already satisfied: symengine<0.14,>=0.11 in /users/PLS0167/rjahan01/.local/lib/python3.9/site-packages (from qiskit==1.3.2) (0.13.0)\n",
      "Requirement already satisfied: python-dateutil>=2.8.0 in /apps/python/3.9-2022.05/lib/python3.9/site-packages (from qiskit==1.3.2) (2.8.2)\n",
      "Requirement already satisfied: numpy<3,>=1.17 in /apps/python/3.9-2022.05/lib/python3.9/site-packages (from qiskit==1.3.2) (1.21.5)\n",
      "Requirement already satisfied: sympy>=1.3 in /apps/python/3.9-2022.05/lib/python3.9/site-packages (from qiskit==1.3.2) (1.10.1)\n",
      "Requirement already satisfied: scipy>=1.5 in /apps/python/3.9-2022.05/lib/python3.9/site-packages (from qiskit==1.3.2) (1.7.3)\n",
      "Requirement already satisfied: six>=1.5 in /apps/python/3.9-2022.05/lib/python3.9/site-packages (from python-dateutil>=2.8.0->qiskit==1.3.2) (1.16.0)\n",
      "Requirement already satisfied: pbr>=2.0.0 in /users/PLS0167/rjahan01/.local/lib/python3.9/site-packages (from stevedore>=3.0.0->qiskit==1.3.2) (6.1.1)\n",
      "Requirement already satisfied: setuptools in /apps/python/3.9-2022.05/lib/python3.9/site-packages (from pbr>=2.0.0->stevedore>=3.0.0->qiskit==1.3.2) (61.2.0)\n",
      "Requirement already satisfied: mpmath>=0.19 in /apps/python/3.9-2022.05/lib/python3.9/site-packages (from sympy>=1.3->qiskit==1.3.2) (1.2.1)\n"
     ]
    }
   ],
   "source": [
    "!pip install \"qiskit==1.3.2\""
   ]
  },
  {
   "cell_type": "code",
   "execution_count": 2,
   "id": "47eb6707-71df-4eeb-a703-1f4d917314f2",
   "metadata": {},
   "outputs": [],
   "source": [
    "import qiskit"
   ]
  },
  {
   "cell_type": "code",
   "execution_count": 3,
   "id": "cf9b789a-329c-410f-8ac5-91bb3a7131d5",
   "metadata": {},
   "outputs": [
    {
     "data": {
      "text/plain": [
       "'1.3.2'"
      ]
     },
     "execution_count": 3,
     "metadata": {},
     "output_type": "execute_result"
    }
   ],
   "source": [
    "qiskit.__version__"
   ]
  },
  {
   "cell_type": "code",
   "execution_count": 4,
   "id": "af051e1a",
   "metadata": {
    "scrolled": false
   },
   "outputs": [
    {
     "name": "stdout",
     "output_type": "stream",
     "text": [
      "Name: qiskit\n",
      "Version: 1.3.2\n",
      "Summary: An open-source SDK for working with quantum computers at the level of extended quantum circuits, operators, and primitives.\n",
      "Home-page: \n",
      "Author: \n",
      "Author-email: Qiskit Development Team <qiskit@us.ibm.com>\n",
      "License: Apache 2.0\n",
      "Location: /users/PLS0167/rjahan01/.local/lib/python3.9/site-packages\n",
      "Requires: rustworkx, symengine, stevedore, sympy, typing-extensions, scipy, dill, numpy, python-dateutil\n",
      "Required-by: qiskit-ibm-runtime, qiskit-ibm-provider, qiskit-algorithms, qiskit-aer\n",
      "Note: you may need to restart the kernel to use updated packages.\n"
     ]
    }
   ],
   "source": [
    "pip show qiskit\n"
   ]
  },
  {
   "cell_type": "code",
   "execution_count": 5,
   "id": "720dceff-2f36-4975-a8c3-e0812137d1df",
   "metadata": {
    "scrolled": true
   },
   "outputs": [],
   "source": [
    "from qiskit_ibm_runtime import QiskitRuntimeService"
   ]
  },
  {
   "cell_type": "code",
   "execution_count": null,
   "id": "d92d4cee-0154-4995-8172-60cbffb6b8dc",
   "metadata": {
    "scrolled": true
   },
   "outputs": [
    {
     "name": "stdout",
     "output_type": "stream",
     "text": [
      "Defaulting to user installation because normal site-packages is not writeable\n",
      "Requirement already satisfied: numpy in /apps/python/3.9-2022.05/lib/python3.9/site-packages (1.21.5)\n",
      "Requirement already satisfied: matplotlib in /apps/python/3.9-2022.05/lib/python3.9/site-packages (3.5.1)\n",
      "Requirement already satisfied: kiwisolver>=1.0.1 in /apps/python/3.9-2022.05/lib/python3.9/site-packages (from matplotlib) (1.3.2)\n",
      "Requirement already satisfied: fonttools>=4.22.0 in /apps/python/3.9-2022.05/lib/python3.9/site-packages (from matplotlib) (4.25.0)\n",
      "Requirement already satisfied: cycler>=0.10 in /apps/python/3.9-2022.05/lib/python3.9/site-packages (from matplotlib) (0.11.0)\n",
      "Requirement already satisfied: pyparsing>=2.2.1 in /users/PLS0167/rjahan01/.local/lib/python3.9/site-packages (from matplotlib) (3.2.1)\n",
      "Requirement already satisfied: python-dateutil>=2.7 in /apps/python/3.9-2022.05/lib/python3.9/site-packages (from matplotlib) (2.8.2)\n",
      "Requirement already satisfied: packaging>=20.0 in /apps/python/3.9-2022.05/lib/python3.9/site-packages (from matplotlib) (21.3)\n",
      "Requirement already satisfied: pillow>=6.2.0 in /apps/python/3.9-2022.05/lib/python3.9/site-packages (from matplotlib) (9.0.1)\n",
      "Requirement already satisfied: six>=1.5 in /apps/python/3.9-2022.05/lib/python3.9/site-packages (from python-dateutil>=2.7->matplotlib) (1.16.0)\n"
     ]
    }
   ],
   "source": [
    "\n",
    "!pip install numpy matplotlib"
   ]
  },
  {
   "cell_type": "code",
   "execution_count": 7,
   "id": "42194749",
   "metadata": {
    "scrolled": true
   },
   "outputs": [
    {
     "name": "stdout",
     "output_type": "stream",
     "text": [
      "Defaulting to user installation because normal site-packages is not writeable\n",
      "Requirement already satisfied: qiskit-ibm-runtime in /users/PLS0167/rjahan01/.local/lib/python3.9/site-packages (0.35.0)\n",
      "Requirement already satisfied: numpy>=1.13 in /apps/python/3.9-2022.05/lib/python3.9/site-packages (from qiskit-ibm-runtime) (1.21.5)\n",
      "Requirement already satisfied: qiskit>=1.1.0 in /users/PLS0167/rjahan01/.local/lib/python3.9/site-packages (from qiskit-ibm-runtime) (1.3.2)\n",
      "Requirement already satisfied: requests>=2.19 in /users/PLS0167/rjahan01/.local/lib/python3.9/site-packages (from qiskit-ibm-runtime) (2.32.3)\n",
      "Requirement already satisfied: python-dateutil>=2.8.0 in /apps/python/3.9-2022.05/lib/python3.9/site-packages (from qiskit-ibm-runtime) (2.8.2)\n",
      "Requirement already satisfied: requests-ntlm>=1.1.0 in /users/PLS0167/rjahan01/.local/lib/python3.9/site-packages (from qiskit-ibm-runtime) (1.3.0)\n",
      "Requirement already satisfied: websocket-client>=1.5.1 in /users/PLS0167/rjahan01/.local/lib/python3.9/site-packages (from qiskit-ibm-runtime) (1.8.0)\n",
      "Requirement already satisfied: pydantic<2.10,>=2.5.0 in /users/PLS0167/rjahan01/.local/lib/python3.9/site-packages (from qiskit-ibm-runtime) (2.9.2)\n",
      "Requirement already satisfied: ibm-platform-services>=0.22.6 in /users/PLS0167/rjahan01/.local/lib/python3.9/site-packages (from qiskit-ibm-runtime) (0.59.1)\n",
      "Requirement already satisfied: urllib3>=1.21.1 in /users/PLS0167/rjahan01/.local/lib/python3.9/site-packages (from qiskit-ibm-runtime) (2.3.0)\n",
      "Requirement already satisfied: ibm_cloud_sdk_core<4.0.0,>=3.22.0 in /users/PLS0167/rjahan01/.local/lib/python3.9/site-packages (from ibm-platform-services>=0.22.6->qiskit-ibm-runtime) (3.22.1)\n",
      "Requirement already satisfied: PyJWT<3.0.0,>=2.8.0 in /users/PLS0167/rjahan01/.local/lib/python3.9/site-packages (from ibm_cloud_sdk_core<4.0.0,>=3.22.0->ibm-platform-services>=0.22.6->qiskit-ibm-runtime) (2.10.1)\n",
      "Requirement already satisfied: typing-extensions>=4.6.1 in /users/PLS0167/rjahan01/.local/lib/python3.9/site-packages (from pydantic<2.10,>=2.5.0->qiskit-ibm-runtime) (4.12.2)\n",
      "Requirement already satisfied: annotated-types>=0.6.0 in /users/PLS0167/rjahan01/.local/lib/python3.9/site-packages (from pydantic<2.10,>=2.5.0->qiskit-ibm-runtime) (0.7.0)\n",
      "Requirement already satisfied: pydantic-core==2.23.4 in /users/PLS0167/rjahan01/.local/lib/python3.9/site-packages (from pydantic<2.10,>=2.5.0->qiskit-ibm-runtime) (2.23.4)\n",
      "Requirement already satisfied: six>=1.5 in /apps/python/3.9-2022.05/lib/python3.9/site-packages (from python-dateutil>=2.8.0->qiskit-ibm-runtime) (1.16.0)\n",
      "Requirement already satisfied: dill>=0.3 in /users/PLS0167/rjahan01/.local/lib/python3.9/site-packages (from qiskit>=1.1.0->qiskit-ibm-runtime) (0.3.9)\n",
      "Requirement already satisfied: symengine<0.14,>=0.11 in /users/PLS0167/rjahan01/.local/lib/python3.9/site-packages (from qiskit>=1.1.0->qiskit-ibm-runtime) (0.13.0)\n",
      "Requirement already satisfied: stevedore>=3.0.0 in /users/PLS0167/rjahan01/.local/lib/python3.9/site-packages (from qiskit>=1.1.0->qiskit-ibm-runtime) (5.4.0)\n",
      "Requirement already satisfied: scipy>=1.5 in /apps/python/3.9-2022.05/lib/python3.9/site-packages (from qiskit>=1.1.0->qiskit-ibm-runtime) (1.7.3)\n",
      "Requirement already satisfied: sympy>=1.3 in /apps/python/3.9-2022.05/lib/python3.9/site-packages (from qiskit>=1.1.0->qiskit-ibm-runtime) (1.10.1)\n",
      "Requirement already satisfied: rustworkx>=0.15.0 in /users/PLS0167/rjahan01/.local/lib/python3.9/site-packages (from qiskit>=1.1.0->qiskit-ibm-runtime) (0.16.0)\n",
      "Requirement already satisfied: charset-normalizer<4,>=2 in /apps/python/3.9-2022.05/lib/python3.9/site-packages (from requests>=2.19->qiskit-ibm-runtime) (2.0.4)\n",
      "Requirement already satisfied: idna<4,>=2.5 in /apps/python/3.9-2022.05/lib/python3.9/site-packages (from requests>=2.19->qiskit-ibm-runtime) (3.3)\n",
      "Requirement already satisfied: certifi>=2017.4.17 in /apps/python/3.9-2022.05/lib/python3.9/site-packages (from requests>=2.19->qiskit-ibm-runtime) (2021.10.8)\n",
      "Requirement already satisfied: cryptography>=1.3 in /apps/python/3.9-2022.05/lib/python3.9/site-packages (from requests-ntlm>=1.1.0->qiskit-ibm-runtime) (3.4.8)\n",
      "Requirement already satisfied: pyspnego>=0.4.0 in /users/PLS0167/rjahan01/.local/lib/python3.9/site-packages (from requests-ntlm>=1.1.0->qiskit-ibm-runtime) (0.11.2)\n",
      "Requirement already satisfied: cffi>=1.12 in /apps/python/3.9-2022.05/lib/python3.9/site-packages (from cryptography>=1.3->requests-ntlm>=1.1.0->qiskit-ibm-runtime) (1.15.0)\n",
      "Requirement already satisfied: pycparser in /apps/python/3.9-2022.05/lib/python3.9/site-packages (from cffi>=1.12->cryptography>=1.3->requests-ntlm>=1.1.0->qiskit-ibm-runtime) (2.21)\n",
      "Requirement already satisfied: pbr>=2.0.0 in /users/PLS0167/rjahan01/.local/lib/python3.9/site-packages (from stevedore>=3.0.0->qiskit>=1.1.0->qiskit-ibm-runtime) (6.1.1)\n",
      "Requirement already satisfied: setuptools in /apps/python/3.9-2022.05/lib/python3.9/site-packages (from pbr>=2.0.0->stevedore>=3.0.0->qiskit>=1.1.0->qiskit-ibm-runtime) (61.2.0)\n",
      "Requirement already satisfied: mpmath>=0.19 in /apps/python/3.9-2022.05/lib/python3.9/site-packages (from sympy>=1.3->qiskit>=1.1.0->qiskit-ibm-runtime) (1.2.1)\n"
     ]
    }
   ],
   "source": [
    "!pip install qiskit-ibm-runtime"
   ]
  },
  {
   "cell_type": "code",
   "execution_count": 8,
   "id": "e3b53a88",
   "metadata": {
    "scrolled": true
   },
   "outputs": [
    {
     "name": "stdout",
     "output_type": "stream",
     "text": [
      "Defaulting to user installation because normal site-packages is not writeable\n",
      "Requirement already satisfied: qiskit[visualization] in /users/PLS0167/rjahan01/.local/lib/python3.9/site-packages (1.3.2)\n",
      "Requirement already satisfied: sympy>=1.3 in /apps/python/3.9-2022.05/lib/python3.9/site-packages (from qiskit[visualization]) (1.10.1)\n",
      "Requirement already satisfied: typing-extensions in /users/PLS0167/rjahan01/.local/lib/python3.9/site-packages (from qiskit[visualization]) (4.12.2)\n",
      "Requirement already satisfied: scipy>=1.5 in /apps/python/3.9-2022.05/lib/python3.9/site-packages (from qiskit[visualization]) (1.7.3)\n",
      "Requirement already satisfied: stevedore>=3.0.0 in /users/PLS0167/rjahan01/.local/lib/python3.9/site-packages (from qiskit[visualization]) (5.4.0)\n",
      "Requirement already satisfied: python-dateutil>=2.8.0 in /apps/python/3.9-2022.05/lib/python3.9/site-packages (from qiskit[visualization]) (2.8.2)\n",
      "Requirement already satisfied: rustworkx>=0.15.0 in /users/PLS0167/rjahan01/.local/lib/python3.9/site-packages (from qiskit[visualization]) (0.16.0)\n",
      "Requirement already satisfied: numpy<3,>=1.17 in /apps/python/3.9-2022.05/lib/python3.9/site-packages (from qiskit[visualization]) (1.21.5)\n",
      "Requirement already satisfied: dill>=0.3 in /users/PLS0167/rjahan01/.local/lib/python3.9/site-packages (from qiskit[visualization]) (0.3.9)\n",
      "Requirement already satisfied: symengine<0.14,>=0.11 in /users/PLS0167/rjahan01/.local/lib/python3.9/site-packages (from qiskit[visualization]) (0.13.0)\n",
      "Requirement already satisfied: seaborn>=0.9.0 in /apps/python/3.9-2022.05/lib/python3.9/site-packages (from qiskit[visualization]) (0.11.2)\n",
      "Requirement already satisfied: pydot in /users/PLS0167/rjahan01/.local/lib/python3.9/site-packages (from qiskit[visualization]) (3.0.4)\n",
      "Requirement already satisfied: Pillow>=4.2.1 in /apps/python/3.9-2022.05/lib/python3.9/site-packages (from qiskit[visualization]) (9.0.1)\n",
      "Requirement already satisfied: matplotlib>=3.3 in /apps/python/3.9-2022.05/lib/python3.9/site-packages (from qiskit[visualization]) (3.5.1)\n",
      "Requirement already satisfied: pylatexenc>=1.4 in /users/PLS0167/rjahan01/.local/lib/python3.9/site-packages (from qiskit[visualization]) (2.10)\n",
      "Requirement already satisfied: fonttools>=4.22.0 in /apps/python/3.9-2022.05/lib/python3.9/site-packages (from matplotlib>=3.3->qiskit[visualization]) (4.25.0)\n",
      "Requirement already satisfied: cycler>=0.10 in /apps/python/3.9-2022.05/lib/python3.9/site-packages (from matplotlib>=3.3->qiskit[visualization]) (0.11.0)\n",
      "Requirement already satisfied: packaging>=20.0 in /apps/python/3.9-2022.05/lib/python3.9/site-packages (from matplotlib>=3.3->qiskit[visualization]) (21.3)\n",
      "Requirement already satisfied: pyparsing>=2.2.1 in /users/PLS0167/rjahan01/.local/lib/python3.9/site-packages (from matplotlib>=3.3->qiskit[visualization]) (3.2.1)\n",
      "Requirement already satisfied: kiwisolver>=1.0.1 in /apps/python/3.9-2022.05/lib/python3.9/site-packages (from matplotlib>=3.3->qiskit[visualization]) (1.3.2)\n",
      "Requirement already satisfied: six>=1.5 in /apps/python/3.9-2022.05/lib/python3.9/site-packages (from python-dateutil>=2.8.0->qiskit[visualization]) (1.16.0)\n",
      "Requirement already satisfied: pandas>=0.23 in /apps/python/3.9-2022.05/lib/python3.9/site-packages (from seaborn>=0.9.0->qiskit[visualization]) (1.4.2)\n",
      "Requirement already satisfied: pytz>=2020.1 in /apps/python/3.9-2022.05/lib/python3.9/site-packages (from pandas>=0.23->seaborn>=0.9.0->qiskit[visualization]) (2021.3)\n",
      "Requirement already satisfied: pbr>=2.0.0 in /users/PLS0167/rjahan01/.local/lib/python3.9/site-packages (from stevedore>=3.0.0->qiskit[visualization]) (6.1.1)\n",
      "Requirement already satisfied: setuptools in /apps/python/3.9-2022.05/lib/python3.9/site-packages (from pbr>=2.0.0->stevedore>=3.0.0->qiskit[visualization]) (61.2.0)\n",
      "Requirement already satisfied: mpmath>=0.19 in /apps/python/3.9-2022.05/lib/python3.9/site-packages (from sympy>=1.3->qiskit[visualization]) (1.2.1)\n"
     ]
    }
   ],
   "source": [
    "!pip install 'qiskit[visualization]'"
   ]
  },
  {
   "cell_type": "code",
   "execution_count": 9,
   "id": "763524b8",
   "metadata": {
    "scrolled": true
   },
   "outputs": [
    {
     "name": "stdout",
     "output_type": "stream",
     "text": [
      "Defaulting to user installation because normal site-packages is not writeable\n",
      "Requirement already satisfied: qiskit_aer in /users/PLS0167/rjahan01/.local/lib/python3.9/site-packages (0.17.0)\n",
      "Requirement already satisfied: qiskit>=1.1.0 in /users/PLS0167/rjahan01/.local/lib/python3.9/site-packages (from qiskit_aer) (1.3.2)\n",
      "Requirement already satisfied: numpy>=1.16.3 in /apps/python/3.9-2022.05/lib/python3.9/site-packages (from qiskit_aer) (1.21.5)\n",
      "Requirement already satisfied: psutil>=5 in /apps/python/3.9-2022.05/lib/python3.9/site-packages (from qiskit_aer) (5.8.0)\n",
      "Requirement already satisfied: scipy>=1.0 in /apps/python/3.9-2022.05/lib/python3.9/site-packages (from qiskit_aer) (1.7.3)\n",
      "Requirement already satisfied: symengine<0.14,>=0.11 in /users/PLS0167/rjahan01/.local/lib/python3.9/site-packages (from qiskit>=1.1.0->qiskit_aer) (0.13.0)\n",
      "Requirement already satisfied: stevedore>=3.0.0 in /users/PLS0167/rjahan01/.local/lib/python3.9/site-packages (from qiskit>=1.1.0->qiskit_aer) (5.4.0)\n",
      "Requirement already satisfied: rustworkx>=0.15.0 in /users/PLS0167/rjahan01/.local/lib/python3.9/site-packages (from qiskit>=1.1.0->qiskit_aer) (0.16.0)\n",
      "Requirement already satisfied: sympy>=1.3 in /apps/python/3.9-2022.05/lib/python3.9/site-packages (from qiskit>=1.1.0->qiskit_aer) (1.10.1)\n",
      "Requirement already satisfied: dill>=0.3 in /users/PLS0167/rjahan01/.local/lib/python3.9/site-packages (from qiskit>=1.1.0->qiskit_aer) (0.3.9)\n",
      "Requirement already satisfied: python-dateutil>=2.8.0 in /apps/python/3.9-2022.05/lib/python3.9/site-packages (from qiskit>=1.1.0->qiskit_aer) (2.8.2)\n",
      "Requirement already satisfied: typing-extensions in /users/PLS0167/rjahan01/.local/lib/python3.9/site-packages (from qiskit>=1.1.0->qiskit_aer) (4.12.2)\n",
      "Requirement already satisfied: six>=1.5 in /apps/python/3.9-2022.05/lib/python3.9/site-packages (from python-dateutil>=2.8.0->qiskit>=1.1.0->qiskit_aer) (1.16.0)\n",
      "Requirement already satisfied: pbr>=2.0.0 in /users/PLS0167/rjahan01/.local/lib/python3.9/site-packages (from stevedore>=3.0.0->qiskit>=1.1.0->qiskit_aer) (6.1.1)\n",
      "Requirement already satisfied: setuptools in /apps/python/3.9-2022.05/lib/python3.9/site-packages (from pbr>=2.0.0->stevedore>=3.0.0->qiskit>=1.1.0->qiskit_aer) (61.2.0)\n",
      "Requirement already satisfied: mpmath>=0.19 in /apps/python/3.9-2022.05/lib/python3.9/site-packages (from sympy>=1.3->qiskit>=1.1.0->qiskit_aer) (1.2.1)\n"
     ]
    }
   ],
   "source": [
    "!pip install qiskit_aer"
   ]
  },
  {
   "cell_type": "code",
   "execution_count": 10,
   "id": "da02bf1f-6b05-43d5-82e9-2898f28061df",
   "metadata": {},
   "outputs": [],
   "source": [
    "from qiskit import QuantumCircuit\n",
    "from qiskit_aer import AerSimulator\n",
    "from qiskit_ibm_runtime import QiskitRuntimeService"
   ]
  },
  {
   "cell_type": "code",
   "execution_count": null,
   "id": "b1e63674-de5c-4b29-bc5f-6bc8e28b8ff4",
   "metadata": {},
   "outputs": [
    {
     "name": "stdout",
     "output_type": "stream",
     "text": [
      "Qiskit 1.3.1 setup is working correctly!\n"
     ]
    },
    {
     "name": "stderr",
     "output_type": "stream",
     "text": [
      "/tmp/slurmtmp.36037895/ipykernel_271538/1321213518.py:19: DeprecationWarning: The class ``qiskit.primitives.estimator.Estimator`` is deprecated as of qiskit 1.2. It will be removed no earlier than 3 months after the release date. All implementations of the `BaseEstimatorV1` interface have been deprecated in favor of their V2 counterparts. The V2 alternative for the `Estimator` class is `StatevectorEstimator`.\n",
      "  estimator = Estimator()\n"
     ]
    }
   ],
   "source": [
    "from qiskit import QuantumCircuit\n",
    "from qiskit.primitives import Estimator\n",
    "from qiskit_aer import AerSimulator\n",
    "from qiskit_ibm_runtime import QiskitRuntimeService, Session\n",
    "\n",
    "# Create a simple quantum circuit\n",
    "qc = QuantumCircuit(2)\n",
    "\n",
    "qc.h(0)\n",
    "\n",
    "qc.cx(0, 1)\n",
    "qc.measure_all()\n",
    "\n",
    "# Use Qiskit Aer simulator\n",
    "backend = AerSimulator()\n",
    "estimator = Estimator()\n",
    "\n",
    "# Print confirmation\n",
    "print(\"Qiskit 1.3.1 setup is working correctly!\")"
   ]
  },
  {
   "cell_type": "code",
   "execution_count": 12,
   "id": "147e68a1",
   "metadata": {
    "scrolled": true
   },
   "outputs": [
    {
     "name": "stdout",
     "output_type": "stream",
     "text": [
      "Defaulting to user installation because normal site-packages is not writeable\n",
      "Requirement already satisfied: qiskit-ibm-provider in /users/PLS0167/rjahan01/.local/lib/python3.9/site-packages (0.11.0)\n",
      "Requirement already satisfied: requests-ntlm>=1.1.0 in /users/PLS0167/rjahan01/.local/lib/python3.9/site-packages (from qiskit-ibm-provider) (1.3.0)\n",
      "Requirement already satisfied: urllib3>=1.21.1 in /users/PLS0167/rjahan01/.local/lib/python3.9/site-packages (from qiskit-ibm-provider) (2.3.0)\n",
      "Requirement already satisfied: python-dateutil>=2.8.0 in /apps/python/3.9-2022.05/lib/python3.9/site-packages (from qiskit-ibm-provider) (2.8.2)\n",
      "Requirement already satisfied: requests>=2.19 in /users/PLS0167/rjahan01/.local/lib/python3.9/site-packages (from qiskit-ibm-provider) (2.32.3)\n",
      "Requirement already satisfied: websocket-client>=1.5.1 in /users/PLS0167/rjahan01/.local/lib/python3.9/site-packages (from qiskit-ibm-provider) (1.8.0)\n",
      "Requirement already satisfied: numpy>=1.13 in /apps/python/3.9-2022.05/lib/python3.9/site-packages (from qiskit-ibm-provider) (1.21.5)\n",
      "Requirement already satisfied: qiskit>=0.45.0 in /users/PLS0167/rjahan01/.local/lib/python3.9/site-packages (from qiskit-ibm-provider) (1.3.2)\n",
      "Requirement already satisfied: typing-extensions>=4.3 in /users/PLS0167/rjahan01/.local/lib/python3.9/site-packages (from qiskit-ibm-provider) (4.12.2)\n",
      "Requirement already satisfied: websockets>=10.0 in /users/PLS0167/rjahan01/.local/lib/python3.9/site-packages (from qiskit-ibm-provider) (15.0.1)\n",
      "Requirement already satisfied: six>=1.5 in /apps/python/3.9-2022.05/lib/python3.9/site-packages (from python-dateutil>=2.8.0->qiskit-ibm-provider) (1.16.0)\n",
      "Requirement already satisfied: rustworkx>=0.15.0 in /users/PLS0167/rjahan01/.local/lib/python3.9/site-packages (from qiskit>=0.45.0->qiskit-ibm-provider) (0.16.0)\n",
      "Requirement already satisfied: stevedore>=3.0.0 in /users/PLS0167/rjahan01/.local/lib/python3.9/site-packages (from qiskit>=0.45.0->qiskit-ibm-provider) (5.4.0)\n",
      "Requirement already satisfied: scipy>=1.5 in /apps/python/3.9-2022.05/lib/python3.9/site-packages (from qiskit>=0.45.0->qiskit-ibm-provider) (1.7.3)\n",
      "Requirement already satisfied: sympy>=1.3 in /apps/python/3.9-2022.05/lib/python3.9/site-packages (from qiskit>=0.45.0->qiskit-ibm-provider) (1.10.1)\n",
      "Requirement already satisfied: symengine<0.14,>=0.11 in /users/PLS0167/rjahan01/.local/lib/python3.9/site-packages (from qiskit>=0.45.0->qiskit-ibm-provider) (0.13.0)\n",
      "Requirement already satisfied: dill>=0.3 in /users/PLS0167/rjahan01/.local/lib/python3.9/site-packages (from qiskit>=0.45.0->qiskit-ibm-provider) (0.3.9)\n",
      "Requirement already satisfied: certifi>=2017.4.17 in /apps/python/3.9-2022.05/lib/python3.9/site-packages (from requests>=2.19->qiskit-ibm-provider) (2021.10.8)\n",
      "Requirement already satisfied: charset-normalizer<4,>=2 in /apps/python/3.9-2022.05/lib/python3.9/site-packages (from requests>=2.19->qiskit-ibm-provider) (2.0.4)\n",
      "Requirement already satisfied: idna<4,>=2.5 in /apps/python/3.9-2022.05/lib/python3.9/site-packages (from requests>=2.19->qiskit-ibm-provider) (3.3)\n",
      "Requirement already satisfied: cryptography>=1.3 in /apps/python/3.9-2022.05/lib/python3.9/site-packages (from requests-ntlm>=1.1.0->qiskit-ibm-provider) (3.4.8)\n",
      "Requirement already satisfied: pyspnego>=0.4.0 in /users/PLS0167/rjahan01/.local/lib/python3.9/site-packages (from requests-ntlm>=1.1.0->qiskit-ibm-provider) (0.11.2)\n",
      "Requirement already satisfied: cffi>=1.12 in /apps/python/3.9-2022.05/lib/python3.9/site-packages (from cryptography>=1.3->requests-ntlm>=1.1.0->qiskit-ibm-provider) (1.15.0)\n",
      "Requirement already satisfied: pycparser in /apps/python/3.9-2022.05/lib/python3.9/site-packages (from cffi>=1.12->cryptography>=1.3->requests-ntlm>=1.1.0->qiskit-ibm-provider) (2.21)\n",
      "Requirement already satisfied: pbr>=2.0.0 in /users/PLS0167/rjahan01/.local/lib/python3.9/site-packages (from stevedore>=3.0.0->qiskit>=0.45.0->qiskit-ibm-provider) (6.1.1)\n",
      "Requirement already satisfied: setuptools in /apps/python/3.9-2022.05/lib/python3.9/site-packages (from pbr>=2.0.0->stevedore>=3.0.0->qiskit>=0.45.0->qiskit-ibm-provider) (61.2.0)\n",
      "Requirement already satisfied: mpmath>=0.19 in /apps/python/3.9-2022.05/lib/python3.9/site-packages (from sympy>=1.3->qiskit>=0.45.0->qiskit-ibm-provider) (1.2.1)\n"
     ]
    }
   ],
   "source": [
    "!pip install qiskit-ibm-provider"
   ]
  },
  {
   "cell_type": "code",
   "execution_count": 13,
   "id": "1e75260b",
   "metadata": {
    "scrolled": true
   },
   "outputs": [
    {
     "name": "stdout",
     "output_type": "stream",
     "text": [
      "Defaulting to user installation because normal site-packages is not writeable\n",
      "Requirement already satisfied: qiskit-algorithms in /users/PLS0167/rjahan01/.local/lib/python3.9/site-packages (0.3.1)\n",
      "Requirement already satisfied: numpy>=1.17 in /apps/python/3.9-2022.05/lib/python3.9/site-packages (from qiskit-algorithms) (1.21.5)\n",
      "Requirement already satisfied: scipy>=1.4 in /apps/python/3.9-2022.05/lib/python3.9/site-packages (from qiskit-algorithms) (1.7.3)\n",
      "Requirement already satisfied: qiskit>=0.44 in /users/PLS0167/rjahan01/.local/lib/python3.9/site-packages (from qiskit-algorithms) (1.3.2)\n",
      "Requirement already satisfied: stevedore>=3.0.0 in /users/PLS0167/rjahan01/.local/lib/python3.9/site-packages (from qiskit>=0.44->qiskit-algorithms) (5.4.0)\n",
      "Requirement already satisfied: sympy>=1.3 in /apps/python/3.9-2022.05/lib/python3.9/site-packages (from qiskit>=0.44->qiskit-algorithms) (1.10.1)\n",
      "Requirement already satisfied: rustworkx>=0.15.0 in /users/PLS0167/rjahan01/.local/lib/python3.9/site-packages (from qiskit>=0.44->qiskit-algorithms) (0.16.0)\n",
      "Requirement already satisfied: dill>=0.3 in /users/PLS0167/rjahan01/.local/lib/python3.9/site-packages (from qiskit>=0.44->qiskit-algorithms) (0.3.9)\n",
      "Requirement already satisfied: python-dateutil>=2.8.0 in /apps/python/3.9-2022.05/lib/python3.9/site-packages (from qiskit>=0.44->qiskit-algorithms) (2.8.2)\n",
      "Requirement already satisfied: symengine<0.14,>=0.11 in /users/PLS0167/rjahan01/.local/lib/python3.9/site-packages (from qiskit>=0.44->qiskit-algorithms) (0.13.0)\n",
      "Requirement already satisfied: typing-extensions in /users/PLS0167/rjahan01/.local/lib/python3.9/site-packages (from qiskit>=0.44->qiskit-algorithms) (4.12.2)\n",
      "Requirement already satisfied: six>=1.5 in /apps/python/3.9-2022.05/lib/python3.9/site-packages (from python-dateutil>=2.8.0->qiskit>=0.44->qiskit-algorithms) (1.16.0)\n",
      "Requirement already satisfied: pbr>=2.0.0 in /users/PLS0167/rjahan01/.local/lib/python3.9/site-packages (from stevedore>=3.0.0->qiskit>=0.44->qiskit-algorithms) (6.1.1)\n",
      "Requirement already satisfied: setuptools in /apps/python/3.9-2022.05/lib/python3.9/site-packages (from pbr>=2.0.0->stevedore>=3.0.0->qiskit>=0.44->qiskit-algorithms) (61.2.0)\n",
      "Requirement already satisfied: mpmath>=0.19 in /apps/python/3.9-2022.05/lib/python3.9/site-packages (from sympy>=1.3->qiskit>=0.44->qiskit-algorithms) (1.2.1)\n"
     ]
    }
   ],
   "source": [
    "!pip install qiskit-algorithms"
   ]
  },
  {
   "cell_type": "code",
   "execution_count": 14,
   "id": "243f1bf8",
   "metadata": {
    "scrolled": true
   },
   "outputs": [
    {
     "name": "stdout",
     "output_type": "stream",
     "text": [
      "Defaulting to user installation because normal site-packages is not writeable\n",
      "Requirement already satisfied: qiskit-algorithms in /users/PLS0167/rjahan01/.local/lib/python3.9/site-packages (0.3.1)\n",
      "Requirement already satisfied: numpy>=1.17 in /apps/python/3.9-2022.05/lib/python3.9/site-packages (from qiskit-algorithms) (1.21.5)\n",
      "Requirement already satisfied: scipy>=1.4 in /apps/python/3.9-2022.05/lib/python3.9/site-packages (from qiskit-algorithms) (1.7.3)\n",
      "Requirement already satisfied: qiskit>=0.44 in /users/PLS0167/rjahan01/.local/lib/python3.9/site-packages (from qiskit-algorithms) (1.3.2)\n",
      "Requirement already satisfied: sympy>=1.3 in /apps/python/3.9-2022.05/lib/python3.9/site-packages (from qiskit>=0.44->qiskit-algorithms) (1.10.1)\n",
      "Requirement already satisfied: dill>=0.3 in /users/PLS0167/rjahan01/.local/lib/python3.9/site-packages (from qiskit>=0.44->qiskit-algorithms) (0.3.9)\n",
      "Requirement already satisfied: rustworkx>=0.15.0 in /users/PLS0167/rjahan01/.local/lib/python3.9/site-packages (from qiskit>=0.44->qiskit-algorithms) (0.16.0)\n",
      "Requirement already satisfied: symengine<0.14,>=0.11 in /users/PLS0167/rjahan01/.local/lib/python3.9/site-packages (from qiskit>=0.44->qiskit-algorithms) (0.13.0)\n",
      "Requirement already satisfied: typing-extensions in /users/PLS0167/rjahan01/.local/lib/python3.9/site-packages (from qiskit>=0.44->qiskit-algorithms) (4.12.2)\n",
      "Requirement already satisfied: stevedore>=3.0.0 in /users/PLS0167/rjahan01/.local/lib/python3.9/site-packages (from qiskit>=0.44->qiskit-algorithms) (5.4.0)\n",
      "Requirement already satisfied: python-dateutil>=2.8.0 in /apps/python/3.9-2022.05/lib/python3.9/site-packages (from qiskit>=0.44->qiskit-algorithms) (2.8.2)\n",
      "Requirement already satisfied: six>=1.5 in /apps/python/3.9-2022.05/lib/python3.9/site-packages (from python-dateutil>=2.8.0->qiskit>=0.44->qiskit-algorithms) (1.16.0)\n",
      "Requirement already satisfied: pbr>=2.0.0 in /users/PLS0167/rjahan01/.local/lib/python3.9/site-packages (from stevedore>=3.0.0->qiskit>=0.44->qiskit-algorithms) (6.1.1)\n",
      "Requirement already satisfied: setuptools in /apps/python/3.9-2022.05/lib/python3.9/site-packages (from pbr>=2.0.0->stevedore>=3.0.0->qiskit>=0.44->qiskit-algorithms) (61.2.0)\n",
      "Requirement already satisfied: mpmath>=0.19 in /apps/python/3.9-2022.05/lib/python3.9/site-packages (from sympy>=1.3->qiskit>=0.44->qiskit-algorithms) (1.2.1)\n"
     ]
    }
   ],
   "source": [
    "!pip install --upgrade qiskit-algorithms"
   ]
  },
  {
   "cell_type": "code",
   "execution_count": 15,
   "id": "433a6613",
   "metadata": {},
   "outputs": [
    {
     "name": "stdout",
     "output_type": "stream",
     "text": [
      "QRAM data: {0: 0, 1: 1, 2: 0, 3: 1, 4: 0, 5: 1, 6: 0, 7: 1}\n",
      "Address (bin): 000 -> Data: 0 | Count: 128 | Address (dec): 0\n",
      "Address (bin): 010 -> Data: 0 | Count: 135 | Address (dec): 2\n",
      "Address (bin): 100 -> Data: 0 | Count: 125 | Address (dec): 4\n",
      "Address (bin): 110 -> Data: 0 | Count: 131 | Address (dec): 6\n",
      "Address (bin): 001 -> Data: 1 | Count: 129 | Address (dec): 1\n",
      "Address (bin): 011 -> Data: 1 | Count: 116 | Address (dec): 3\n",
      "Address (bin): 101 -> Data: 1 | Count: 126 | Address (dec): 5\n",
      "Address (bin): 111 -> Data: 1 | Count: 134 | Address (dec): 7\n"
     ]
    },
    {
     "data": {
      "image/png": "[encoded data removed]",
      "text/plain": [
       "<Figure size 504x360 with 1 Axes>"
      ]
     },
     "metadata": {
      "needs_background": "light"
     },
     "output_type": "display_data"
    }
   ],
   "source": [
    "# QRAM sampler for all the indices, all possible states\n",
    "\n",
    "from qiskit import QuantumCircuit, QuantumRegister, ClassicalRegister, transpile\n",
    "from qiskit.visualization import plot_histogram\n",
    "from qiskit_aer import AerSimulator\n",
    "import matplotlib.pyplot as plt\n",
    "\n",
    "\n",
    "# 1. Define QRAM data\n",
    "def get_qram_data():\n",
    "    return {i: i % 2 for i in range(8)}  # 3-bit addresses: 0–7\n",
    "\n",
    "qram_data = get_qram_data()\n",
    "print(\"QRAM data:\", qram_data)\n",
    "\n",
    "# 2. Setup\n",
    "num_address_qubits = 3\n",
    "address = QuantumRegister(num_address_qubits, name='addr')\n",
    "data = QuantumRegister(1, name='data')\n",
    "creg = ClassicalRegister(num_address_qubits + 1, name='c')  # addr + data\n",
    "qc = QuantumCircuit(address, data, creg)\n",
    "\n",
    "# 3. Put address qubits into superposition\n",
    "qc.h(address)\n",
    "\n",
    "# 4. Encode QRAM: Flip data qubit where value == 1\n",
    "for addr_int, val in qram_data.items():\n",
    "    if val == 1:\n",
    "        addr_bin = format(addr_int, '03b')  # 3-bit binary string\n",
    "        \n",
    "        for i in range(num_address_qubits):\n",
    "            if addr_bin[2 - i] == '0':\n",
    "                qc.x(address[i])\n",
    "                \n",
    "        qc.mcx(address[:], data[0])  # Multi-controlled X gate\n",
    "        \n",
    "        # Uncompute\n",
    "        for i in range(num_address_qubits):\n",
    "            if addr_bin[2 - i] == '0':\n",
    "                qc.x(address[i])\n",
    "\n",
    "# 5. Measure\n",
    "qc.measure(address, creg[:num_address_qubits])\n",
    "qc.measure(data, creg[num_address_qubits])\n",
    "\n",
    "# 6. Simulate\n",
    "simulator = AerSimulator()\n",
    "compiled = transpile(qc, simulator)\n",
    "job = simulator.run(compiled, shots=1024)\n",
    "result = job.result()\n",
    "counts = result.get_counts()\n",
    "\n",
    "\n",
    "\n",
    "corrected_counts = {}\n",
    "for bitstring, count in sorted(counts.items(), key=lambda x: x[0]):\n",
    "    addr = bitstring[:-1][::-1]  \n",
    "    data_bit = bitstring[-1]\n",
    "    full_string = addr + data_bit\n",
    "    corrected_counts[full_string] = count\n",
    "\n",
    "\n",
    "ordered_addresses = [0, 2, 4, 6, 1, 3, 5, 7]\n",
    "reordered_counts = {}\n",
    "\n",
    "for addr in ordered_addresses:\n",
    "    addr_bin = format(addr, '03b')\n",
    "    for bitstring in sorted(corrected_counts):\n",
    "        if bitstring.startswith(addr_bin):\n",
    "            count = corrected_counts[bitstring]\n",
    "            data_bit = bitstring[-1]\n",
    "            full_label = addr_bin + data_bit\n",
    "            print(f\"Address (bin): {addr_bin} -> Data: {data_bit} | Count: {count} | Address (dec): {addr}\")\n",
    "            reordered_counts[full_label] = count\n",
    "\n",
    "\n",
    "\n",
    "plt.figure(figsize=(7, 5))  \n",
    "bars = plt.bar(reordered_counts.keys(), reordered_counts.values(), color='#1f77b4')\n",
    "\n",
    "\n",
    "for bar in bars:\n",
    "    yval = bar.get_height()\n",
    "    plt.text(bar.get_x() + bar.get_width() / 2.0, yval + 1, f'{int(yval)}',\n",
    "             ha='center', va='bottom', fontsize=9)\n",
    "\n",
    "# Labels\n",
    "plt.title(\"QRAM Output: Ordered 0,2,4,6,1,3,5,7\", fontsize=10)\n",
    "plt.ylabel(\"Count\", fontsize=9)\n",
    "plt.xticks(fontsize=9)\n",
    "plt.yticks(fontsize=9)\n",
    "plt.tight_layout()\n",
    "plt.show()\n",
    "\n"
   ]
  },
  {
   "cell_type": "code",
   "execution_count": 16,
   "id": "f01d70df",
   "metadata": {},
   "outputs": [
    {
     "data": {
      "image/png": "[encoded data removed]",
      "text/plain": [
       "<Figure size 964.012x325.08 with 1 Axes>"
      ]
     },
     "execution_count": 16,
     "metadata": {},
     "output_type": "execute_result"
    }
   ],
   "source": [
    "qc.draw('mpl')"
   ]
  }
 ],
 "metadata": {
  "kernelspec": {
   "display_name": "Python 3.9 (Conda 2022.05) [python/3.9-2022.05]",
   "language": "python",
   "name": "python39_202205"
  },
  "language_info": {
   "codemirror_mode": {
    "name": "ipython",
    "version": 3
   },
   "file_extension": ".py",
   "mimetype": "text/x-python",
   "name": "python",
   "nbconvert_exporter": "python",
   "pygments_lexer": "ipython3",
   "version": "3.9.12"
  }
 },
 "nbformat": 4,
 "nbformat_minor": 5
}
